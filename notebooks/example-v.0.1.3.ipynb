{
 "cells": [
  {
   "cell_type": "markdown",
   "id": "d39e954b-897f-423b-973d-14e11420bfa5",
   "metadata": {
    "tags": []
   },
   "source": [
    "# Overview\n",
    "\n",
    "This notebook provides an example of the new features provided in release v.0.1.3.\n",
    "\n",
    "For a better interactive viewing experience, you could open this notebook with google colab:\n",
    "\n",
    "[![Open In Colab](https://colab.research.google.com/assets/colab-badge.svg)](https://colab.research.google.com/github/sina-mansour/connectome-based-smoothing/blob/main/notebooks/example-v.0.1.3.ipynb)\n",
    "\n",
    "The codes for high-resolution connectome mapping are adopted from [this repository](https://github.com/sina-mansour/neural-identity). If you are using the high-resolution connectome mapping tools, please make sure to cite the original article too:\n",
    "\n",
    "**Mansour, L. Sina, et al. \"High-resolution connectomic fingerprints: mapping neural identity and behavior.\" *NeuroImage* (2021): 117695.**\n"
   ]
  },
  {
   "cell_type": "markdown",
   "id": "f1795080-02a4-4938-8ccb-8dd11633f1c6",
   "metadata": {
    "tags": []
   },
   "source": [
    "## Importing packages\n",
    "\n",
    "Cells in this section import the required python packages:"
   ]
  },
  {
   "cell_type": "markdown",
   "id": "d03eb4a6-2c73-4dec-8925-445b3dc041ca",
   "metadata": {},
   "source": [
    "Package installations (for google colab only)"
   ]
  },
  {
   "cell_type": "code",
   "execution_count": null,
   "id": "5d9b197f-f57e-414a-bdb2-f6984b6190d9",
   "metadata": {},
   "outputs": [],
   "source": [
    "# install package on google colab\n",
    "! pip install -U Connectome-Spatial-Smoothing\n"
   ]
  },
  {
   "cell_type": "markdown",
   "id": "5dd28bd2-ffab-436e-be40-e06e9a087f84",
   "metadata": {},
   "source": [
    "Package imports"
   ]
  },
  {
   "cell_type": "code",
   "execution_count": 1,
   "id": "438ebf28-8242-4590-97ee-bd27962c072a",
   "metadata": {},
   "outputs": [],
   "source": [
    "# First, import basic python packages\n",
    "import os\n",
    "import sys\n",
    "import numpy as np\n",
    "\n",
    "# Additionally, import the CSS package\n",
    "from Connectome_Spatial_Smoothing import CSS as css\n"
   ]
  },
  {
   "cell_type": "markdown",
   "id": "80ac346a-ebf1-4392-baf4-05ab2de6940d",
   "metadata": {},
   "source": [
    "Data download (for google colab only)"
   ]
  },
  {
   "cell_type": "code",
   "execution_count": null,
   "id": "939df653-701b-480c-9df6-5858dc095009",
   "metadata": {},
   "outputs": [],
   "source": [
    "# load data on google colab\n",
    "! rm -r connectome-spatial-smoothing\n",
    "! git clone --depth 1 https://github.com/sina-mansour/connectome-spatial-smoothing.git\n",
    "os.chdir('/content/connectome-spatial-smoothing/notebooks/')\n"
   ]
  },
  {
   "cell_type": "markdown",
   "id": "648fbf1f-2de1-4cbf-9452-778142b614bc",
   "metadata": {
    "tags": []
   },
   "source": [
    "## Loading files\n",
    "\n",
    "Cells in this section present the neuroimaging data and explain how to load the required files."
   ]
  },
  {
   "cell_type": "code",
   "execution_count": 2,
   "id": "e41349a9-6c4e-49ae-87af-77bcb29bf9ae",
   "metadata": {},
   "outputs": [],
   "source": [
    "# Get paths for all files:\n",
    "main_dir = os.path.join(os.path.abspath(os.path.dirname(os.getcwd())), 'code/Connectome_Spatial_Smoothing')\n",
    "\n",
    "tractography_file = os.path.abspath('{}/data/sample/sample_tractography_10k.tck'.format(main_dir))\n",
    "tractography_file_mni = os.path.abspath('{}/data/sample/sample_tractography_10k_MNI.tck'.format(main_dir))\n",
    "\n",
    "left_native_surface_file = os.path.abspath('{}/data/sample/sample.native.L.white.32k_fs_LR.surf.gii'.format(main_dir))\n",
    "right_native_surface_file = os.path.abspath('{}/data/sample/sample.native.R.white.32k_fs_LR.surf.gii'.format(main_dir))\n",
    "\n",
    "left_MNI_surface_file = os.path.abspath('{}/data/sample/sample.MNI152.L.white.32k_fs_LR.surf.gii'.format(main_dir))\n",
    "right_MNI_surface_file = os.path.abspath('{}/data/sample/sample.MNI152.R.white.32k_fs_LR.surf.gii'.format(main_dir))\n",
    "\n",
    "warp_file = os.path.abspath('{}/data/sample/sample_standard2acpc_dc.nii.gz'.format(main_dir))\n",
    "cifti_file = os.path.abspath('{}/data/templates/cifti/ones.dscalar.nii'.format(main_dir))\n",
    "\n",
    "brain_atlas_file = os.path.abspath('{}/data/templates/atlas/Glasser360.32k_fs_LR.dlabel.nii'.format(main_dir))\n"
   ]
  },
  {
   "cell_type": "markdown",
   "id": "bee7b201-e359-43b2-98b3-47ee631e7f94",
   "metadata": {
    "tags": []
   },
   "source": [
    "## Warping tractography\n",
    "\n",
    "Cells in this section explain the new tractography warping feature:"
   ]
  },
  {
   "cell_type": "markdown",
   "id": "d23aced2-a5eb-4cb3-97e4-9d3856e614d6",
   "metadata": {},
   "source": [
    "We have now exposed some of the codes within the script that could be used to warp a `.tck` tractography using a nonlinear warp.\n",
    "\n",
    "This function can be used to check whether the warping is being performed as expected:"
   ]
  },
  {
   "cell_type": "code",
   "execution_count": 3,
   "id": "20cdc4aa-49dd-4d61-aa70-4e8143fea91b",
   "metadata": {},
   "outputs": [
    {
     "data": {
      "text/plain": [
       "<nibabel.streamlines.tck.TckFile at 0x7f0b8cdff3d0>"
      ]
     },
     "execution_count": 3,
     "metadata": {},
     "output_type": "execute_result"
    }
   ],
   "source": [
    "css.save_warped_tractography(\n",
    "    tractography_file,\n",
    "    warp_file,\n",
    "    tractography_file_mni,\n",
    ")\n"
   ]
  },
  {
   "cell_type": "markdown",
   "id": "a6da48aa-83cf-453d-93fd-88cc78ad303f",
   "metadata": {},
   "source": [
    "The function above warped the input tractography file and stores the output accordingly. This way, we could check the original and warped files to ensure that warping is working as expected.\n",
    "\n",
    "The picture below shows the original native space tractography (`sample_tractography_10k.tck`) overlaid on the native T1 image when visualized with Mrtrix's mrview:\n",
    "\n",
    "<img src=\"../static/images/tractography_native_overlay.png\" alt=\"Tractography\" style=\"width: 500px;\"/>\n",
    "\n",
    "\n",
    "This next picture shows the warped MNI space tractography (`sample_tractography_10k_MNI.tck`) generated by the script above, overlaid on the MNI T1 image when visualized with Mrtrix's mrview:\n",
    "\n",
    "<img src=\"../static/images/tractography_MNI_overlay.png\" alt=\"Tractography\" style=\"width: 500px;\"/>\n",
    "\n",
    "As evident in these two pictures the warp is working as expected. In other words, the streamlines after warping are still closely terminating at the white-matter gray-matter boundary which is a sign of appropriate nonlinear warping from the native space to the standard MNI space.\n"
   ]
  },
  {
   "cell_type": "markdown",
   "id": "61d0077f-5725-46ab-a2f7-8d68bf31aea0",
   "metadata": {
    "tags": []
   },
   "source": [
    "## Smoothing and connectome mapping with subcortex\n",
    "\n",
    "Cells in this section show the newly added option to include subcortex and cerebellum as volumetric nodes (voxels):"
   ]
  },
  {
   "cell_type": "markdown",
   "id": "32e2f5eb-3bb3-4e6e-ba71-72acac124094",
   "metadata": {},
   "source": [
    "New (backwards compatible) options are now added to map connectomes that include the subcortex and to also smooth those connectomes:"
   ]
  },
  {
   "cell_type": "markdown",
   "id": "8110f1e1-829e-4fd0-a263-d523c032d1f7",
   "metadata": {},
   "source": [
    "Alternatively, we could map the connectomes directly onto the MNI surface by providing an additional nonlinear warp:"
   ]
  },
  {
   "cell_type": "code",
   "execution_count": 4,
   "id": "67bfb5a1-c37d-4cfb-a3ee-e62a5fd73765",
   "metadata": {},
   "outputs": [
    {
     "name": "stdout",
     "output_type": "stream",
     "text": [
      "Fri May 27 02:03:29 2022: \u001b[0;32m[INFO]\u001b[0m loading tractography file.\n",
      "Fri May 27 02:03:29 2022: \u001b[0;32m[INFO]\u001b[0m track file loaded: /home/sina/Documents/Research/Codes/CBS/connectome-based-smoothing/code/Connectome_Spatial_Smoothing/data/sample/sample_tractography_10k.tck\n",
      "Fri May 27 02:03:30 2022: \u001b[0;32m[INFO]\u001b[0m endpoints extracted: #10000\n",
      "Fri May 27 02:03:30 2022: \u001b[0;32m[INFO]\u001b[0m endpoints warped: #10000\n",
      "Fri May 27 02:03:32 2022: \u001b[0;32m[INFO]\u001b[0m closest brainordinates located\n",
      "Fri May 27 02:03:32 2022: \u001b[0;32m[INFO]\u001b[0m outliers located: #3097 outliers (30.97%, with threshold 2mm)\n",
      "Fri May 27 02:03:32 2022: \u001b[0;32m[INFO]\u001b[0m creating sparse incidence matrix\n",
      "Fri May 27 02:03:32 2022: \u001b[0;32m[INFO]\u001b[0m sparse matrix generated\n"
     ]
    }
   ],
   "source": [
    "# Map high-resolution connectome onto native surfaces:\n",
    "high_resolution_connectome = css.map_high_resolution_structural_connectivity(\n",
    "    tractography_file,\n",
    "    left_MNI_surface_file,\n",
    "    right_MNI_surface_file,\n",
    "    warp_file=warp_file,\n",
    "    subcortex=True\n",
    ")\n"
   ]
  },
  {
   "cell_type": "markdown",
   "id": "0bf353e3-6406-4829-b126-c48602399282",
   "metadata": {},
   "source": [
    "We can check that the dimension of this new matrix is increased as a result of inclusion of volumetric nodes:"
   ]
  },
  {
   "cell_type": "code",
   "execution_count": 5,
   "id": "af809db2-10e8-43d8-96cc-420ae5a3b54f",
   "metadata": {},
   "outputs": [
    {
     "data": {
      "text/plain": [
       "<91282x91282 sparse matrix of type '<class 'numpy.float32'>'\n",
       "\twith 13783 stored elements in Compressed Sparse Row format>"
      ]
     },
     "execution_count": 5,
     "metadata": {},
     "output_type": "execute_result"
    }
   ],
   "source": [
    "# Check the output matrix\n",
    "high_resolution_connectome\n"
   ]
  },
  {
   "cell_type": "markdown",
   "id": "ea43045b-fbd7-4e70-862b-83f663383363",
   "metadata": {
    "tags": []
   },
   "source": [
    "Similarly, the smoothing kernel can now be created with the subcortex included:"
   ]
  },
  {
   "cell_type": "code",
   "execution_count": 6,
   "id": "9268bab1-bd86-4f34-98b4-45e821349c94",
   "metadata": {},
   "outputs": [
    {
     "name": "stdout",
     "output_type": "stream",
     "text": [
      "CPU times: user 7.76 s, sys: 822 ms, total: 8.59 s\n",
      "Wall time: 1min 42s\n"
     ]
    }
   ],
   "source": [
    "%%time\n",
    "smoothing_kernel = css.compute_smoothing_kernel(left_MNI_surface_file, right_MNI_surface_file, fwhm=3, epsilon=0.01, subcortex=True)\n"
   ]
  },
  {
   "cell_type": "code",
   "execution_count": 7,
   "id": "74904fbb-b4c9-47eb-9ca2-e9954abb1737",
   "metadata": {
    "jupyter": {
     "source_hidden": true
    },
    "tags": []
   },
   "outputs": [
    {
     "name": "stdout",
     "output_type": "stream",
     "text": [
      "Help on function compute_smoothing_kernel in module Connectome_Spatial_Smoothing.CSS:\n",
      "\n",
      "compute_smoothing_kernel(left_surface_file, right_surface_file, fwhm, epsilon=0.01, cifti_file='/home/sina/.local/lib/python3.8/site-packages/Connectome_Spatial_Smoothing/data/templates/cifti/ones.dscalar.nii', subcortex=False, volume_smoothing='integrated')\n",
      "    Compute the CSS smoothing kernel on the cortical surfaces.\n",
      "    \n",
      "    Args:\n",
      "    \n",
      "        left_surface_file: The left hemisphere's surface in fs-LR 32k space (surf.gii format)\n",
      "    \n",
      "        right_surface_file: The right hemisphere's surface in fs-LR 32k space (surf.gii format)\n",
      "    \n",
      "        fwhm: The full width at half maximum (FWHM) in mm.\n",
      "    \n",
      "        epsilon: The kernel truncation threshold.\n",
      "    \n",
      "        cifti_file: [optional, default: HCP-YA template] path to a cifti file, this template is used\n",
      "                    to determine the high-resolution structure to exclude the medial wall and potentially\n",
      "                    integrate subcortical volume.\n",
      "    \n",
      "        subcortex: [optional, default: False] boolean flag indicating whether subcortical and cerebellar\n",
      "                   voxels should also be include in the smoothing kernel. If True, then subcortical and\n",
      "                   cerebellar regions are smoothed with a volumetric smoothing kernel.\n",
      "    \n",
      "        volume_smoothing: [optional, default: \"integrated\"] If subcortex is set to True, this input selects\n",
      "                          the procedure to combine the volumetric smoothing with the cortical surface-based\n",
      "                          (geodesic) smoothing. If set to \"integrated\" the smoothing kernel would allow for\n",
      "                          smoothing weights between cortical surface nodes and the volumetric nodes according\n",
      "                          to the Euclidean distance metric. If set to \"independent\" the volumetric and surface\n",
      "                          smoothing kernels would be completely independent, i.e. the information will not be\n",
      "                          smoothed across the volumetric and surface representations. The default option is\n",
      "                          set to \"integrated\". this mainly allows for smoothing in between subcortical voxels\n",
      "                          and insular vertices that are spatially proximal.\n",
      "    \n",
      "    Returns:\n",
      "    \n",
      "        kernel: The v x v high-resolution smoothing kernel.\n",
      "\n"
     ]
    }
   ],
   "source": [
    "help(css.compute_smoothing_kernel)"
   ]
  },
  {
   "cell_type": "markdown",
   "id": "166c35e2-3b35-4485-b0e5-80d4dadff4ab",
   "metadata": {
    "tags": []
   },
   "source": [
    "Finally, we could then use the computed smoothing kernel to perform CSS on a high-resolution connectome including the volumetric cifti structure:\n",
    "\n",
    "$A_s = F_s A {F_s}^T$"
   ]
  },
  {
   "cell_type": "code",
   "execution_count": 8,
   "id": "f2e79745-e76e-4df1-9383-f0d6131857d4",
   "metadata": {},
   "outputs": [],
   "source": [
    "smoothed_high_resolution_connectome = css.smooth_high_resolution_connectome(high_resolution_connectome, smoothing_kernel)\n"
   ]
  },
  {
   "cell_type": "code",
   "execution_count": null,
   "id": "79101d73-aee1-4f8a-a89c-26409b89b9e4",
   "metadata": {},
   "outputs": [],
   "source": []
  }
 ],
 "metadata": {
  "kernelspec": {
   "display_name": "Python 3 (ipykernel)",
   "language": "python",
   "name": "python3"
  },
  "language_info": {
   "codemirror_mode": {
    "name": "ipython",
    "version": 3
   },
   "file_extension": ".py",
   "mimetype": "text/x-python",
   "name": "python",
   "nbconvert_exporter": "python",
   "pygments_lexer": "ipython3",
   "version": "3.8.10"
  }
 },
 "nbformat": 4,
 "nbformat_minor": 5
}
