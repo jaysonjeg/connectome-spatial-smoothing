{
 "cells": [
  {
   "cell_type": "markdown",
   "id": "d39e954b-897f-423b-973d-14e11420bfa5",
   "metadata": {
    "tags": []
   },
   "source": [
    "# Overview\n",
    "\n",
    "This notebook provides an example on how to use the provided code to load connectomes and perform Connectome Spatial Smoothing (CSS) at different connectome resolutions.\n",
    "\n",
    "For a better interactive viewing experience, you could open this notebook with google colab:\n",
    "\n",
    "[![Open In Colab](https://colab.research.google.com/assets/colab-badge.svg)](https://colab.research.google.com/github/sina-mansour/connectome-based-smoothing/blob/main/notebooks/example.ipynb)\n",
    "\n",
    "The codes for high-resolution connectome mapping are adopted from [this repository](https://github.com/sina-mansour/neural-identity). If you are using the high-resolution connectome mapping tools, please make sure to cite the original article too:\n",
    "\n",
    "**Mansour, L. Sina, et al. \"High-resolution connectomic fingerprints: mapping neural identity and behavior.\" *NeuroImage* (2021): 117695.**\n"
   ]
  },
  {
   "cell_type": "markdown",
   "id": "f1795080-02a4-4938-8ccb-8dd11633f1c6",
   "metadata": {
    "tags": []
   },
   "source": [
    "## Importing packages\n",
    "\n",
    "Cells in this section import the required python packages:"
   ]
  },
  {
   "cell_type": "markdown",
   "id": "d03eb4a6-2c73-4dec-8925-445b3dc041ca",
   "metadata": {},
   "source": [
    "Package installations (for google colab only)"
   ]
  },
  {
   "cell_type": "code",
   "execution_count": null,
   "id": "5d9b197f-f57e-414a-bdb2-f6984b6190d9",
   "metadata": {},
   "outputs": [],
   "source": [
    "# install package on colab\n",
    "! pip install Connectome-Spatial-Smoothing\n"
   ]
  },
  {
   "cell_type": "markdown",
   "id": "5dd28bd2-ffab-436e-be40-e06e9a087f84",
   "metadata": {},
   "source": [
    "Package imports"
   ]
  },
  {
   "cell_type": "code",
   "execution_count": 1,
   "id": "438ebf28-8242-4590-97ee-bd27962c072a",
   "metadata": {},
   "outputs": [],
   "source": [
    "# First, import basic python packages\n",
    "import os\n",
    "import sys\n",
    "import numpy as np\n",
    "\n",
    "# Additionally, import the CSS package\n",
    "from Connectome_Spatial_Smoothing import CSS as css\n"
   ]
  },
  {
   "cell_type": "markdown",
   "id": "648fbf1f-2de1-4cbf-9452-778142b614bc",
   "metadata": {
    "tags": []
   },
   "source": [
    "## Loading files\n",
    "\n",
    "Cells in this section present the neuroimaging data and explain how to load the required files."
   ]
  },
  {
   "cell_type": "markdown",
   "id": "a6da48aa-83cf-453d-93fd-88cc78ad303f",
   "metadata": {},
   "source": [
    "A set of sample imaging files are included in `data` which are used in this notebook to provide examples of using the code.\n",
    "\n",
    "Here's a brief explanation of all files loaded in this example to map the connectomes and perform CSS:\n",
    "\n",
    "- **Tractography file:** A tractography file (`sample_tractography_10k.tck`) was generated using MRtrix3. For the purpose of this example the file only contains 10,000 streamlines to reduce all computational and storage requirements. This is a sagital view of what this file contains when visualized with Mrtrix's mrview:\n",
    "\n",
    "<img src=\"../static/images/sample_tractography.png\" alt=\"Tractography\" style=\"width: 500px;\"/>\n",
    "\n",
    "- **Native surface:** The left and righ native white-matter surface meshes (32k fs-LR) (`sample.native.L.white.32k_fs_LR.surf.gii` &`sample.native.R.white.32k_fs_LR.surf.gii`) are used to map the connectomes. This is what the left surface looks like:\n",
    "\n",
    "<img src=\"../static/images/sample_native_surface.png\" alt=\"Tractography\" style=\"width: 500px;\"/>\n",
    "\n",
    "- **MNI surface:** Additionally left and righ white-matter surface meshes (32k fs-LR) in MNI152 space are provided. These can be used in combination with the nonlinear warp to directly map connectomes in the standard space. This is what the left surface warped to MNI looks like:\n",
    "\n",
    "<img src=\"../static/images/sample_MNI152_surface.png\" alt=\"Tractography\" style=\"width: 500px;\"/>\n",
    "\n",
    "- **Warp file:** The nonlinear warp file (`sample_standard2acpc_dc.nii.gz`) is also required to map the connectome directly onto standard space surface mesh.\n",
    "\n",
    "- **Brain atlas:** To map the connectomes to an atlas resolution we use the [HCP MMP1.0 brain atlas](https://www.nature.com/articles/nature18933):\n",
    "\n",
    "<img src=\"../static/images/glasser_atlas.png\" alt=\"Tractography\" style=\"width: 500px;\"/>\n"
   ]
  },
  {
   "cell_type": "code",
   "execution_count": 2,
   "id": "e41349a9-6c4e-49ae-87af-77bcb29bf9ae",
   "metadata": {},
   "outputs": [],
   "source": [
    "# Get paths for all files:\n",
    "main_dir = os.path.abspath(os.path.dirname(css.__file__))\n",
    "\n",
    "tractography_file = os.path.abspath('{}/data/sample/sample_tractography_10k.tck'.format(main_dir))\n",
    "\n",
    "left_native_surface_file = os.path.abspath('{}/data/sample/sample.native.L.white.32k_fs_LR.surf.gii'.format(main_dir))\n",
    "right_native_surface_file = os.path.abspath('{}/data/sample/sample.native.R.white.32k_fs_LR.surf.gii'.format(main_dir))\n",
    "\n",
    "left_MNI_surface_file = os.path.abspath('{}/data/sample/sample.MNI152.L.white.32k_fs_LR.surf.gii'.format(main_dir))\n",
    "right_MNI_surface_file = os.path.abspath('{}/data/sample/sample.MNI152.R.white.32k_fs_LR.surf.gii'.format(main_dir))\n",
    "\n",
    "warp_file = os.path.abspath('{}/data/sample/sample_standard2acpc_dc.nii.gz'.format(main_dir))\n",
    "\n",
    "brain_atlas_file = os.path.abspath('{}/data/templates/atlas/Glasser360.32k_fs_LR.dlabel.nii'.format(main_dir))\n"
   ]
  },
  {
   "cell_type": "markdown",
   "id": "bee7b201-e359-43b2-98b3-47ee631e7f94",
   "metadata": {
    "tags": []
   },
   "source": [
    "## Mapping the connectomes\n",
    "\n",
    "Cells in this section explain how to map connectomes from the loaded files:"
   ]
  },
  {
   "cell_type": "markdown",
   "id": "61d0077f-5725-46ab-a2f7-8d68bf31aea0",
   "metadata": {
    "tags": []
   },
   "source": [
    "### High-resolution connectomes\n",
    "\n",
    "Cells in this section can be used to map high-resolution structural connectomes from tractography data:"
   ]
  },
  {
   "cell_type": "markdown",
   "id": "32e2f5eb-3bb3-4e6e-ba71-72acac124094",
   "metadata": {},
   "source": [
    "The following function can be used to map the high-resolution structural connectome onto the native surface_mesh:"
   ]
  },
  {
   "cell_type": "code",
   "execution_count": 3,
   "id": "78f8d8d8-b69a-47f8-804b-edcfba0bb47b",
   "metadata": {},
   "outputs": [
    {
     "name": "stdout",
     "output_type": "stream",
     "text": [
      "Sun Nov 28 19:47:37 2021: \u001b[0;32m[INFO]\u001b[0m loading tractography file.\n",
      "Sun Nov 28 19:47:37 2021: \u001b[0;32m[INFO]\u001b[0m track file loaded: /home/sina/.local/lib/python3.8/site-packages/Connectome_Spatial_Smoothing/data/sample/sample_tractography_10k.tck\n",
      "Sun Nov 28 19:47:37 2021: \u001b[0;32m[INFO]\u001b[0m endpoints extracted: #10000\n",
      "Sun Nov 28 19:47:38 2021: \u001b[0;32m[INFO]\u001b[0m closest brainordinates located\n",
      "Sun Nov 28 19:47:38 2021: \u001b[0;32m[INFO]\u001b[0m outliers located: #3027 outliers (30.27%, with threshold 2mm)\n",
      "Sun Nov 28 19:47:38 2021: \u001b[0;32m[INFO]\u001b[0m creating sparse incidence matrix\n",
      "Sun Nov 28 19:47:38 2021: \u001b[0;32m[INFO]\u001b[0m sparse matrix generated\n"
     ]
    }
   ],
   "source": [
    "# Map high-resolution connectome onto native surfaces:\n",
    "native_high_resolution_connectome = css.map_high_resolution_structural_connectivity(tractography_file, left_native_surface_file, right_native_surface_file)\n"
   ]
  },
  {
   "cell_type": "markdown",
   "id": "8110f1e1-829e-4fd0-a263-d523c032d1f7",
   "metadata": {},
   "source": [
    "Alternatively, we could map the connectomes directly onto the MNI surface by providing an additional nonlinear warp:"
   ]
  },
  {
   "cell_type": "code",
   "execution_count": 4,
   "id": "67bfb5a1-c37d-4cfb-a3ee-e62a5fd73765",
   "metadata": {},
   "outputs": [
    {
     "name": "stdout",
     "output_type": "stream",
     "text": [
      "Sun Nov 28 19:47:39 2021: \u001b[0;32m[INFO]\u001b[0m loading tractography file.\n",
      "Sun Nov 28 19:47:39 2021: \u001b[0;32m[INFO]\u001b[0m track file loaded: /home/sina/.local/lib/python3.8/site-packages/Connectome_Spatial_Smoothing/data/sample/sample_tractography_10k.tck\n",
      "Sun Nov 28 19:47:39 2021: \u001b[0;32m[INFO]\u001b[0m endpoints extracted: #10000\n",
      "Sun Nov 28 19:47:39 2021: \u001b[0;32m[INFO]\u001b[0m endpoints warped: #10000\n",
      "Sun Nov 28 19:47:42 2021: \u001b[0;32m[INFO]\u001b[0m closest brainordinates located\n",
      "Sun Nov 28 19:47:42 2021: \u001b[0;32m[INFO]\u001b[0m outliers located: #3532 outliers (35.32%, with threshold 2mm)\n",
      "Sun Nov 28 19:47:42 2021: \u001b[0;32m[INFO]\u001b[0m creating sparse incidence matrix\n",
      "Sun Nov 28 19:47:42 2021: \u001b[0;32m[INFO]\u001b[0m sparse matrix generated\n"
     ]
    }
   ],
   "source": [
    "# Map high-resolution connectome onto native surfaces:\n",
    "high_resolution_connectome = css.map_high_resolution_structural_connectivity(tractography_file, left_MNI_surface_file, right_MNI_surface_file, warp_file=warp_file)\n"
   ]
  },
  {
   "cell_type": "markdown",
   "id": "0bf353e3-6406-4829-b126-c48602399282",
   "metadata": {},
   "source": [
    "It's important to note that the connectivity matrices are loaded in a sparce matrix format. (This ensurers effiecient matrix manipulations when performing CBS in high-resolution."
   ]
  },
  {
   "cell_type": "code",
   "execution_count": 5,
   "id": "af809db2-10e8-43d8-96cc-420ae5a3b54f",
   "metadata": {},
   "outputs": [
    {
     "data": {
      "text/plain": [
       "<59412x59412 sparse matrix of type '<class 'numpy.float32'>'\n",
       "\twith 12913 stored elements in Compressed Sparse Row format>"
      ]
     },
     "execution_count": 5,
     "metadata": {},
     "output_type": "execute_result"
    }
   ],
   "source": [
    "# Check the output matrix\n",
    "high_resolution_connectome\n"
   ]
  },
  {
   "cell_type": "markdown",
   "id": "c33945e9-7f0a-40c3-93b0-b318e8d2db2b",
   "metadata": {},
   "source": [
    "The connectome mapping code above also uses a threshold (default: 2mm) to exclude any streamlines ending far from the cortical surface vertices. You may look at the function's help for further details:"
   ]
  },
  {
   "cell_type": "code",
   "execution_count": 6,
   "id": "f2628703-6394-4419-b95a-79b3527af65e",
   "metadata": {
    "jupyter": {
     "source_hidden": true
    },
    "tags": []
   },
   "outputs": [
    {
     "name": "stdout",
     "output_type": "stream",
     "text": [
      "Help on function map_high_resolution_structural_connectivity in module Connectome_Spatial_Smoothing.CSS:\n",
      "\n",
      "map_high_resolution_structural_connectivity(track_file, left_surface_file, right_surface_file, warp_file=None, threshold=2, subcortex=False)\n",
      "    Map the high-resolution structural connectivity matrix from tractography outputs.\n",
      "    \n",
      "    Args:\n",
      "    \n",
      "        track_file: The tractography file to map connectivity from (tck format)\n",
      "    \n",
      "        left_surface_file: The left hemisphere's surface in fs-LR 32k space (surf.gii format)\n",
      "    \n",
      "        right_surface_file: The right hemisphere's surface in fs-LR 32k space (surf.gii format)\n",
      "    \n",
      "        warp_file: [optional] A nonlinear warp can be provided to map streamlines after warping\n",
      "                   the endpoints.\n",
      "    \n",
      "        threshold: [default=2] A threshold to exclude endpoints further than that threshold from\n",
      "                   any cortical vertices (in mm).\n",
      "    \n",
      "    Returns:\n",
      "    \n",
      "        connectome: The high-resolution structural connectome in a sparse csr format.\n",
      "\n"
     ]
    }
   ],
   "source": [
    "help(css.map_high_resolution_structural_connectivity)\n"
   ]
  },
  {
   "cell_type": "markdown",
   "id": "e9ff2ab7-228b-4792-9ce3-673953c226cc",
   "metadata": {
    "tags": []
   },
   "source": [
    "### Atlas-resolution connectomes\n",
    "\n",
    "Cells in this section can be used to map structural connectomes at the resolution of a brain atlas:"
   ]
  },
  {
   "cell_type": "markdown",
   "id": "1e5d505a-c3dc-4fce-b51a-e7e9422e850a",
   "metadata": {
    "tags": []
   },
   "source": [
    "#### Loading the brain atlas\n",
    "\n",
    "We have provided a function to get the $p \\times v$ representation of the brain atlas $P$ along with it's labels. (Check our paper for further detail)"
   ]
  },
  {
   "cell_type": "code",
   "execution_count": 7,
   "id": "be7cb09a-3238-4b2b-857b-5149cd651cf3",
   "metadata": {},
   "outputs": [],
   "source": [
    "labels, parcellation_matrix = css.parcellation_characteristic_matrix(atlas_file=brain_atlas_file)\n"
   ]
  },
  {
   "cell_type": "markdown",
   "id": "ea0673ef-17f3-4682-afbf-11d89a5385d4",
   "metadata": {
    "tags": []
   },
   "source": [
    "#### Mapping parcellation connectome\n",
    "\n",
    "Using the matrix representation of the brain atlas $P$. The high-resolution connectivity matrix $A$ can be downsampled to a parcellation connectome $A_p$. (Check our paper for further detail.\n",
    "\n",
    "$A_p = PAP^T$"
   ]
  },
  {
   "cell_type": "code",
   "execution_count": 8,
   "id": "da627adb-334a-4f1e-9483-422a0af27bca",
   "metadata": {},
   "outputs": [],
   "source": [
    "atlas_connectome = css.downsample_high_resolution_structural_connectivity_to_atlas(high_resolution_connectome, parcellation_matrix)\n"
   ]
  },
  {
   "cell_type": "code",
   "execution_count": 9,
   "id": "a06edb48-58ac-451c-9d83-b9029e8ca26b",
   "metadata": {},
   "outputs": [
    {
     "data": {
      "text/plain": [
       "(360, 360)"
      ]
     },
     "execution_count": 9,
     "metadata": {},
     "output_type": "execute_result"
    }
   ],
   "source": [
    "# check output connectome's dimension\n",
    "atlas_connectome.shape"
   ]
  },
  {
   "cell_type": "markdown",
   "id": "4d4f8800-25f7-410c-8094-52db58055143",
   "metadata": {},
   "source": [
    "Alternatively you could use the following function to directly map atlas connectomes from tractography files:"
   ]
  },
  {
   "cell_type": "code",
   "execution_count": 10,
   "id": "07334656-8697-43a6-8a54-dff53058309b",
   "metadata": {},
   "outputs": [
    {
     "name": "stdout",
     "output_type": "stream",
     "text": [
      "Sun Nov 28 19:48:14 2021: \u001b[0;32m[INFO]\u001b[0m loading tractography file.\n",
      "Sun Nov 28 19:48:14 2021: \u001b[0;32m[INFO]\u001b[0m track file loaded: /home/sina/.local/lib/python3.8/site-packages/Connectome_Spatial_Smoothing/data/sample/sample_tractography_10k.tck\n",
      "Sun Nov 28 19:48:14 2021: \u001b[0;32m[INFO]\u001b[0m endpoints extracted: #10000\n",
      "Sun Nov 28 19:48:14 2021: \u001b[0;32m[INFO]\u001b[0m endpoints warped: #10000\n",
      "Sun Nov 28 19:48:15 2021: \u001b[0;32m[INFO]\u001b[0m closest brainordinates located\n",
      "Sun Nov 28 19:48:15 2021: \u001b[0;32m[INFO]\u001b[0m outliers located: #3532 outliers (35.32%, with threshold 2mm)\n",
      "Sun Nov 28 19:48:15 2021: \u001b[0;32m[INFO]\u001b[0m creating sparse incidence matrix\n",
      "Sun Nov 28 19:48:15 2021: \u001b[0;32m[INFO]\u001b[0m sparse matrix generated\n"
     ]
    }
   ],
   "source": [
    "# Map high-resolution connectome onto native surfaces:\n",
    "atlas_connectome = css.map_atlas_resolution_structural_connectivity(tractography_file, left_MNI_surface_file, right_MNI_surface_file, atlas_file=brain_atlas_file, warp_file=warp_file)\n"
   ]
  },
  {
   "cell_type": "markdown",
   "id": "8e5d0dff-b36f-4c82-b2d9-25ef84e03ec2",
   "metadata": {},
   "source": [
    "Make sure to check the functions' docstrings for further detail:"
   ]
  },
  {
   "cell_type": "code",
   "execution_count": 11,
   "id": "c5a194e6-f1a9-4287-bab5-cbe4d67a57bb",
   "metadata": {
    "jupyter": {
     "source_hidden": true
    },
    "tags": []
   },
   "outputs": [
    {
     "name": "stdout",
     "output_type": "stream",
     "text": [
      "Help on function parcellation_characteristic_matrix in module Connectome_Spatial_Smoothing.CSS:\n",
      "\n",
      "parcellation_characteristic_matrix(atlas_file='/home/sina/.local/lib/python3.8/site-packages/Connectome_Spatial_Smoothing/data/templates/atlas/Glasser360.32k_fs_LR.dlabel.nii')\n",
      "    This function generates a p x v characteristic matrix from a brain atlas.\n",
      "    \n",
      "    Args:\n",
      "    \n",
      "        atlas_file: path to a cifti atlas file (dlabel.nii) [default: HCP MMP1.0]\n",
      "    \n",
      "    Returns:\n",
      "    \n",
      "        parcellation_matrix: The p x v sparse matrix representation of the atlas.\n",
      "\n"
     ]
    }
   ],
   "source": [
    "help(css.parcellation_characteristic_matrix)\n"
   ]
  },
  {
   "cell_type": "code",
   "execution_count": 12,
   "id": "5d6a659f-4bf0-4aea-b4ef-a2f7cbcb2eef",
   "metadata": {
    "jupyter": {
     "source_hidden": true
    },
    "tags": []
   },
   "outputs": [
    {
     "name": "stdout",
     "output_type": "stream",
     "text": [
      "Help on function downsample_high_resolution_structural_connectivity_to_atlas in module Connectome_Spatial_Smoothing.CSS:\n",
      "\n",
      "downsample_high_resolution_structural_connectivity_to_atlas(high_resolution_connectome, parcellation)\n",
      "    Downsample the high-resolution structural connectivity matrix to the resolution of a brain atlas.\n",
      "    \n",
      "    Args:\n",
      "    \n",
      "        high_resolution_connectome: The high-resolution structural connectome (59412 x 59412 sparse CSR matrix)\n",
      "    \n",
      "        parcellation: A p x v sparse percellation matrix (can also accept a soft parcellation)\n",
      "    \n",
      "    Returns:\n",
      "    \n",
      "        connectome: The atlas-resolution structural connectome in a sparse csr format.\n",
      "\n"
     ]
    }
   ],
   "source": [
    "help(css.downsample_high_resolution_structural_connectivity_to_atlas)\n"
   ]
  },
  {
   "cell_type": "code",
   "execution_count": 13,
   "id": "e4e69a02-ca5d-41ec-8bf9-84a698b18564",
   "metadata": {
    "jupyter": {
     "source_hidden": true
    },
    "tags": []
   },
   "outputs": [
    {
     "name": "stdout",
     "output_type": "stream",
     "text": [
      "Help on function map_atlas_resolution_structural_connectivity in module Connectome_Spatial_Smoothing.CSS:\n",
      "\n",
      "map_atlas_resolution_structural_connectivity(track_file, left_surface_file, right_surface_file, atlas_file='/home/sina/.local/lib/python3.8/site-packages/Connectome_Spatial_Smoothing/data/templates/atlas/Glasser360.32k_fs_LR.dlabel.nii', warp_file=None, threshold=2, subcortex=False)\n",
      "    Maps the structural connectivity matrix at the resolution of a brain atlas.\n",
      "    \n",
      "    Args:\n",
      "    \n",
      "        track_file: The tractography file to map connectivity from (tck format)\n",
      "    \n",
      "        left_surface_file: The left hemisphere's surface in fs-LR 32k space (surf.gii format)\n",
      "    \n",
      "        right_surface_file: The right hemisphere's surface in fs-LR 32k space (surf.gii format)\n",
      "    \n",
      "        warp_file: [optional] A nonlinear warp can be provided to map streamlines after warping\n",
      "                   the endpoints.\n",
      "    \n",
      "        threshold: [default=2] A threshold to exclude endpoints further than that threshold from\n",
      "                   any cortical vertices (in mm).\n",
      "    \n",
      "    Returns:\n",
      "    \n",
      "        connectome: The high-resolution structural connectome in a sparse csr format.\n",
      "\n"
     ]
    }
   ],
   "source": [
    "help(css.map_atlas_resolution_structural_connectivity)\n"
   ]
  },
  {
   "cell_type": "markdown",
   "id": "a155597b-6017-4880-8968-c003d8daa43a",
   "metadata": {
    "tags": []
   },
   "source": [
    "## Connectome Spatial Smoothing\n",
    "\n",
    "Cells in this section show how to use the codes to perform CSS:"
   ]
  },
  {
   "cell_type": "markdown",
   "id": "ea43045b-fbd7-4e70-862b-83f663383363",
   "metadata": {
    "tags": []
   },
   "source": [
    "### CSS smoothing kernel\n",
    "\n",
    "The CSS smoothing kernel $F_s$ is computed by column normalization of a Gaussian smoothing kernel $F_G$ which is computed based on the geodesic distances on the surface meshes.\n",
    "\n",
    "The following function can be used to compute the CSS smoothing kernel from **FWHM** and $\\varepsilon$: (the function takes a while to run)\n"
   ]
  },
  {
   "cell_type": "code",
   "execution_count": 14,
   "id": "9268bab1-bd86-4f34-98b4-45e821349c94",
   "metadata": {},
   "outputs": [
    {
     "name": "stdout",
     "output_type": "stream",
     "text": [
      "CPU times: user 851 ms, sys: 61.4 ms, total: 912 ms\n",
      "Wall time: 1min 25s\n"
     ]
    }
   ],
   "source": [
    "%%time\n",
    "smoothing_kernel = css.compute_smoothing_kernel(left_MNI_surface_file, right_MNI_surface_file, fwhm=3, epsilon=0.01)\n"
   ]
  },
  {
   "cell_type": "code",
   "execution_count": 15,
   "id": "74904fbb-b4c9-47eb-9ca2-e9954abb1737",
   "metadata": {
    "jupyter": {
     "source_hidden": true
    },
    "tags": []
   },
   "outputs": [
    {
     "name": "stdout",
     "output_type": "stream",
     "text": [
      "Help on function compute_smoothing_kernel in module Connectome_Spatial_Smoothing.CSS:\n",
      "\n",
      "compute_smoothing_kernel(left_surface_file, right_surface_file, fwhm, epsilon=0.01)\n",
      "    Compute the CSS smoothing kernel.\n",
      "    \n",
      "    Args:\n",
      "    \n",
      "        left_surface_file: The left hemisphere's surface in fs-LR 32k space (surf.gii format)\n",
      "    \n",
      "        right_surface_file: The right hemisphere's surface in fs-LR 32k space (surf.gii format)\n",
      "    \n",
      "        fwhm: The full width at half maximum (FWHM) in mm.\n",
      "    \n",
      "        epsilon: The kernel truncation threshold.\n",
      "    \n",
      "    Returns:\n",
      "    \n",
      "        kernel: The v x v high-resolution smoothing kernel.\n",
      "\n"
     ]
    }
   ],
   "source": [
    "help(css.compute_smoothing_kernel)"
   ]
  },
  {
   "cell_type": "markdown",
   "id": "166c35e2-3b35-4485-b0e5-80d4dadff4ab",
   "metadata": {
    "tags": []
   },
   "source": [
    "### High-resolution CSS\n",
    "\n",
    "We could then use the computed smoothing kernel to perform CSS on a high-resolution connectome:\n",
    "\n",
    "$A_s = F_s A {F_s}^T$"
   ]
  },
  {
   "cell_type": "code",
   "execution_count": 16,
   "id": "f2e79745-e76e-4df1-9383-f0d6131857d4",
   "metadata": {},
   "outputs": [],
   "source": [
    "smoothed_high_resolution_connectome = css.smooth_high_resolution_connectome(high_resolution_connectome, smoothing_kernel)\n"
   ]
  },
  {
   "cell_type": "markdown",
   "id": "30db14f1-1ba0-473a-abdd-423048452433",
   "metadata": {
    "tags": []
   },
   "source": [
    "### Atlas-resolution CSS\n",
    "\n",
    "To smooth the connectomes in atlas resolution, we need to first compute a $p \\times v$ smoothed soft parcellation $P_s$. This soft parcellation can be computed from the brain parcellation matrix $P$ and the CSS smoothing kernel $F_s$:\n",
    "\n",
    "$P_s = P F_s$"
   ]
  },
  {
   "cell_type": "code",
   "execution_count": 17,
   "id": "97f6c5d9-4f35-4ed8-82c2-8244fa24a905",
   "metadata": {},
   "outputs": [],
   "source": [
    "smoothed_parcellation = css.smooth_parcellation_matrix(parcellation_matrix, smoothing_kernel)\n"
   ]
  },
  {
   "cell_type": "markdown",
   "id": "2670ec06-799c-494d-a710-adeda7aab3bb",
   "metadata": {},
   "source": [
    "This soft parcellation can now be used to produce CBS smoothed atlas connectomes:"
   ]
  },
  {
   "cell_type": "code",
   "execution_count": 18,
   "id": "e6257734-af22-455c-83dd-45585dd9362d",
   "metadata": {},
   "outputs": [],
   "source": [
    "smoothed_atlas_connectome = css.downsample_high_resolution_structural_connectivity_to_atlas(high_resolution_connectome, smoothed_parcellation)\n"
   ]
  },
  {
   "cell_type": "code",
   "execution_count": null,
   "id": "79101d73-aee1-4f8a-a89c-26409b89b9e4",
   "metadata": {},
   "outputs": [],
   "source": []
  }
 ],
 "metadata": {
  "kernelspec": {
   "display_name": "Python 3 (ipykernel)",
   "language": "python",
   "name": "python3"
  },
  "language_info": {
   "codemirror_mode": {
    "name": "ipython",
    "version": 3
   },
   "file_extension": ".py",
   "mimetype": "text/x-python",
   "name": "python",
   "nbconvert_exporter": "python",
   "pygments_lexer": "ipython3",
   "version": "3.8.10"
  }
 },
 "nbformat": 4,
 "nbformat_minor": 5
}
